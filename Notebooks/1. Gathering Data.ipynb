{
 "cells": [
  {
   "cell_type": "markdown",
   "metadata": {},
   "source": [
    "## Sistema de Recomendação de Ações\n",
    "### 1. Coleta de dados"
   ]
  },
  {
   "cell_type": "markdown",
   "metadata": {},
   "source": [
    "### Planejamento\n",
    "\n",
    "1. Definição do problema de negócios\n",
    "\n",
    "~2. Coletar dados~\n",
    "\n",
    "3. Análise exploratória de dados (EDA)\n",
    "4. Pré-processamento\n",
    "5. Modelagem\n",
    "6. Avaliação da performance\n",
    "7. Implantação\n",
    "8. Organização dos resultados\n",
    "9. Apresentacão\n"
   ]
  },
  {
   "cell_type": "markdown",
   "metadata": {},
   "source": [
    "### Definições:\n",
    "\n",
    "- Qual será a API para obter os dados das ações?\n"
   ]
  },
  {
   "cell_type": "code",
   "execution_count": 41,
   "metadata": {},
   "outputs": [],
   "source": [
    "# import pyyaml module\n",
    "import yaml\n",
    "from yaml.loader import SafeLoader\n",
    "\n",
    "# Open the file and load the file\n",
    "with open('env.yaml', encoding='utf-8') as f:\n",
    "    yaml_data_list = yaml.load(f, Loader=yaml.FullLoader)\n",
    "\n",
    "API_KEY = yaml_data_list['API_KEY']\n",
    "API_HOST = yaml_data_list['API_HOST']"
   ]
  },
  {
   "cell_type": "code",
   "execution_count": 42,
   "metadata": {},
   "outputs": [
    {
     "name": "stdout",
     "output_type": "stream",
     "text": [
      "{'meta': {'currency': 'USD', 'symbol': 'TSLA', 'exchangeName': 'NMS', 'instrumentType': 'EQUITY', 'firstTradeDate': 1277818200, 'regularMarketTime': 1704488400, 'gmtoffset': -18000, 'timezone': 'EST', 'exchangeTimezoneName': 'America/New_York', 'regularMarketPrice': 237.49, 'chartPreviousClose': 239.29, 'priceHint': 2, 'currentTradingPeriod': {'pre': {'timezone': 'EST', 'start': 1704445200, 'end': 1704465000, 'gmtoffset': -18000}, 'regular': {'timezone': 'EST', 'start': 1704465000, 'end': 1704488400, 'gmtoffset': -18000}, 'post': {'timezone': 'EST', 'start': 1704488400, 'end': 1704502800, 'gmtoffset': -18000}}, 'dataGranularity': '1d', 'range': '15d', 'validRanges': ['1d', '5d', '1mo', '3mo', '6mo', '1y', '2y', '5y', '10y', 'ytd', 'max']}, 'timestamp': [1702564200, 1702650600, 1702909800, 1702996200, 1703082600, 1703169000, 1703255400, 1703601000, 1703687400, 1703773800, 1703860200, 1704205800, 1704292200, 1704378600, 1704465000], 'indicators': {'quote': [{'close': [251.0500030517578, 253.5, 252.0800018310547, 257.2200012207031, 247.13999938964844, 254.5, 252.5399932861328, 256.6099853515625, 261.44000244140625, 253.17999267578125, 248.47999572753906, 248.4199981689453, 238.4499969482422, 237.92999267578125, 237.49000549316406], 'volume': [160829200, 135720800, 116416500, 106737400, 125097000, 109594200, 93249800, 86892400, 106494400, 113619900, 100615300, 104654200, 121082600, 102629300, 92379400], 'open': [241.22000122070312, 251.2100067138672, 253.77999877929688, 253.47999572753906, 256.4100036621094, 251.89999389648438, 256.760009765625, 254.49000549316406, 258.3500061035156, 263.6600036621094, 255.10000610351562, 250.0800018310547, 244.97999572753906, 239.25, 236.86000061035156], 'low': [240.7899932861328, 248.3000030517578, 251.36000061035156, 253.00999450683594, 247, 248.5500030517578, 251.3699951171875, 252.91000366210938, 257.5199890136719, 252.7100067138672, 247.42999267578125, 244.41000366210938, 236.32000732421875, 237.72999572753906, 234.89999389648438], 'high': [253.8800048828125, 254.1300048828125, 258.739990234375, 258.3399963378906, 259.8399963378906, 254.8000030517578, 258.2200012207031, 257.9700012207031, 263.3399963378906, 265.1300048828125, 255.19000244140625, 251.25, 245.67999267578125, 242.6999969482422, 240.1199951171875]}], 'adjclose': [{'adjclose': [251.0500030517578, 253.5, 252.0800018310547, 257.2200012207031, 247.13999938964844, 254.5, 252.5399932861328, 256.6099853515625, 261.44000244140625, 253.17999267578125, 248.47999572753906, 248.4199981689453, 238.4499969482422, 237.92999267578125, 237.49000549316406]}]}}\n"
     ]
    }
   ],
   "source": [
    "import requests\n",
    "\n",
    "url = \"https://yahoo-finance127.p.rapidapi.com/historic/tsla/1d/15d\"\n",
    "\n",
    "headers = {\n",
    "\t\"X-RapidAPI-Key\": API_KEY,\n",
    "\t\"X-RapidAPI-Host\": API_HOST\n",
    "}\n",
    "\n",
    "response = requests.get(url, headers=headers)\n",
    "\n",
    "print(response.json())"
   ]
  },
  {
   "cell_type": "markdown",
   "metadata": {},
   "source": []
  }
 ],
 "metadata": {
  "interpreter": {
   "hash": "e08fc85177f0882333063daa820e6a1c24bd79ec3906081b5c81a8f52369aed2"
  },
  "kernelspec": {
   "display_name": "Python 3.8.16 ('my-env')",
   "language": "python",
   "name": "python3"
  },
  "language_info": {
   "codemirror_mode": {
    "name": "ipython",
    "version": 3
   },
   "file_extension": ".py",
   "mimetype": "text/x-python",
   "name": "python",
   "nbconvert_exporter": "python",
   "pygments_lexer": "ipython3",
   "version": "3.9.6"
  },
  "orig_nbformat": 4
 },
 "nbformat": 4,
 "nbformat_minor": 2
}
