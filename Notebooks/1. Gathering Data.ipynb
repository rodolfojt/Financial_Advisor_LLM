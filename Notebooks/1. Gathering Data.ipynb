{
 "cells": [
  {
   "cell_type": "markdown",
   "metadata": {},
   "source": [
    "## Sistema de Recomendação de Ações\n",
    "### 1. Coleta de dados"
   ]
  },
  {
   "cell_type": "markdown",
   "metadata": {},
   "source": [
    "### Planejamento\n",
    "\n",
    "1. Definição do problema de negócios\n",
    "\n",
    "~2. Coletar dados~\n",
    "\n",
    "3. Análise exploratória de dados (EDA)\n",
    "4. Pré-processamento\n",
    "5. Modelagem\n",
    "6. Avaliação da performance\n",
    "7. Implantação\n",
    "8. Organização dos resultados\n",
    "9. Apresentacão\n"
   ]
  },
  {
   "cell_type": "markdown",
   "metadata": {},
   "source": [
    "### Definições:\n",
    "\n",
    "- Qual será a API para obter os dados das ações?\n"
   ]
  },
  {
   "cell_type": "markdown",
   "metadata": {},
   "source": []
  }
 ],
 "metadata": {
  "interpreter": {
   "hash": "e08fc85177f0882333063daa820e6a1c24bd79ec3906081b5c81a8f52369aed2"
  },
  "kernelspec": {
   "display_name": "Python 3.8.16 ('my-env')",
   "language": "python",
   "name": "python3"
  },
  "language_info": {
   "name": "python",
   "version": "3.8.16"
  },
  "orig_nbformat": 4
 },
 "nbformat": 4,
 "nbformat_minor": 2
}
