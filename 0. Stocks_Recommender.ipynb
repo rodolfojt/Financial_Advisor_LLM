{
 "cells": [
  {
   "cell_type": "markdown",
   "metadata": {},
   "source": [
    "# Sistema de Recomendação de Ações"
   ]
  },
  {
   "cell_type": "markdown",
   "metadata": {},
   "source": [
    "* Descrição:\n",
    "Este projeto tem o objetivo de criar um sistema de recomendações de ações baseado em machine learning. O conceito inicial é utilizar duas abordagens distintas:\n",
    "\n",
    "1. Unsupervised learning: através de clusterização definir as ações mais semelhantes a uma determinada ação, justificando os elementos que mais se assemelham.\n",
    "2. Collaborative filtering: usar algoritmos de recomendação específicos para recomendar ações.\n",
    "\n",
    "### Motivação\n",
    "\n",
    "Por que fazer este projeto?\n",
    "\n",
    "1. Aumentar meu portfólio, colocando em prática o entendimento de gaps em estatística, modelagem e MLOps, realizando a criação de um projeto autêntico de machine learning de ponta-a-ponta, desde a definição do problema até a implantação do modelo.\n",
    "2. Avançar com conhecimento prático na construção da minha autoridade como Engenheiro de Machine Learning.\n",
    "3. Automatizar a escolher de ações que sejam boas pagadoras de dividendos, usando aprendizagem de máquina, sem a necessidade de um consultor financeiro.\n"
   ]
  },
  {
   "cell_type": "markdown",
   "metadata": {},
   "source": [
    "## Planejamento\n",
    "\n",
    "1. Definição do problema de negócios\n",
    "2. Coletar dados\n",
    "3. Análise exploratória de dados (EDA)\n",
    "4. Pré-processamento\n",
    "5. Modelagem\n",
    "6. Avaliação da performance\n",
    "7. Implantação\n",
    "8. Organização dos resultados\n",
    "9. Apresentacão"
   ]
  },
  {
   "cell_type": "markdown",
   "metadata": {},
   "source": [
    "### Gaps que irei praticar neste projeto\n",
    "\n",
    "- Análise exploratória dos dados\n",
    "- Modelagem:\n",
    "    - Aprendizagem não-supervisionada\n",
    "    - filtragem colaborativa\n",
    "- Avaliação de performance de algoritmos de recomendação\n",
    "- Implantação\n",
    "    - Criação de APIs\n",
    "    - Criação de web app com Streamlit\n",
    "- Aplicação de MLOps\n",
    "    - Model registry\n",
    "    - Conseguiria integrar ao Vertex AI ?\n",
    "    - Quais testes eu poderia realizar?\n",
    "    - Como funcionaria o monitoramento?"
   ]
  },
  {
   "cell_type": "markdown",
   "metadata": {},
   "source": []
  }
 ],
 "metadata": {
  "language_info": {
   "name": "python"
  },
  "orig_nbformat": 4
 },
 "nbformat": 4,
 "nbformat_minor": 2
}
