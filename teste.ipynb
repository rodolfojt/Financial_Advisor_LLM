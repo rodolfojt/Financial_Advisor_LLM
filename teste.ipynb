{
 "cells": [
  {
   "cell_type": "code",
   "execution_count": null,
   "metadata": {},
   "outputs": [],
   "source": [
    "from alpaca.data.historical import CryptoHistoricalDataClient\n",
    "\n",
    "client = CryptoHistoricalDataClient()"
   ]
  },
  {
   "cell_type": "code",
   "execution_count": null,
   "metadata": {},
   "outputs": [],
   "source": [
    "from alpaca.data.requests import CryptoBarsRequest\n",
    "from alpaca.data.timeframe import TimeFrame\n",
    "from datetime import datetime\n",
    "\n",
    "# Creating request object\n",
    "request_params = CryptoBarsRequest(\n",
    "                        symbol_or_symbols=[\"BTC/USD\"],\n",
    "                        timeframe=TimeFrame.Day,\n",
    "                        start=datetime(2022, 9, 1),end=datetime(2022, 9, 7))\n"
   ]
  },
  {
   "cell_type": "code",
   "execution_count": null,
   "metadata": {},
   "outputs": [],
   "source": [
    "# Retrieve daily bars for Bitcoin in a DataFrame and printing it\n",
    "btc_bars = client.get_crypto_bars(request_params)\n",
    "\n",
    "# Convert to dataframe\n",
    "btc_bars.df"
   ]
  },
  {
   "cell_type": "markdown",
   "metadata": {},
   "source": [
    "# QDrant"
   ]
  },
  {
   "cell_type": "code",
   "execution_count": null,
   "metadata": {},
   "outputs": [],
   "source": [
    "from qdrant_client import QdrantClient\n",
    "\n",
    "qdrant_client = QdrantClient(\n",
    "    \"xyz-example.eu-central.aws.cloud.qdrant.io\",\n",
    "    api_key=\"\",\n",
    ")"
   ]
  },
  {
   "cell_type": "code",
   "execution_count": null,
   "metadata": {},
   "outputs": [],
   "source": [
    "## import comet_ml at the top of your file\n",
    "from comet_ml import Experiment\n",
    "\n",
    "## Create an experiment with your api key\n",
    "experiment = Experiment(\n",
    "    api_key= \"\",\n",
    "    project_name=\"Test Project\",\n",
    "    workspace=\"Financial Advisor\",\n",
    ")"
   ]
  },
  {
   "cell_type": "code",
   "execution_count": null,
   "metadata": {},
   "outputs": [],
   "source": [
    "metrics = {'accuracy': 0.9, 'loss': 0.01}\n",
    "experiment.log_metrics(metrics, step=1)"
   ]
  },
  {
   "cell_type": "code",
   "execution_count": 51,
   "metadata": {},
   "outputs": [
    {
     "data": {
      "text/plain": [
       "2"
      ]
     },
     "execution_count": 51,
     "metadata": {},
     "output_type": "execute_result"
    }
   ],
   "source": [
    "s = \"ABCDCDC\"\n",
    "sub = \"CDC\"\n",
    "\n",
    "i = s.rfind(sub)\n",
    "\n",
    "count = 0\n",
    "while i != -1:\n",
    "    count += 1\n",
    "    i = s[:i+1].rfind(sub)\n",
    "\n",
    "count"
   ]
  },
  {
   "cell_type": "code",
   "execution_count": 66,
   "metadata": {},
   "outputs": [
    {
     "data": {
      "text/plain": [
       "<function dict.keys>"
      ]
     },
     "execution_count": 66,
     "metadata": {},
     "output_type": "execute_result"
    }
   ],
   "source": [
    "d = {1:\"clas\", 2:\"class2\"}\n",
    "d.keys"
   ]
  },
  {
   "cell_type": "code",
   "execution_count": 67,
   "metadata": {},
   "outputs": [
    {
     "data": {
      "text/plain": [
       "True"
      ]
     },
     "execution_count": 67,
     "metadata": {},
     "output_type": "execute_result"
    }
   ],
   "source": [
    "type(1) == int"
   ]
  },
  {
   "cell_type": "code",
   "execution_count": 71,
   "metadata": {},
   "outputs": [
    {
     "data": {
      "text/plain": [
       "4"
      ]
     },
     "execution_count": 71,
     "metadata": {},
     "output_type": "execute_result"
    }
   ],
   "source": [
    "machine = [1,2,3,4]\n",
    "machine.pop()"
   ]
  },
  {
   "cell_type": "code",
   "execution_count": 73,
   "metadata": {},
   "outputs": [
    {
     "data": {
      "text/plain": [
       "3"
      ]
     },
     "execution_count": 73,
     "metadata": {},
     "output_type": "execute_result"
    }
   ],
   "source": [
    "max(machine)"
   ]
  },
  {
   "cell_type": "code",
   "execution_count": 82,
   "metadata": {},
   "outputs": [],
   "source": [
    "# you can write to stdout for debugging purposes, e.g.\n",
    "# print(\"this is a debug message\")\n",
    "\n",
    "def solution(S):\n",
    "    # Implement your solution here\n",
    "    machine = []\n",
    "\n",
    "    for i in S.split(\" \"):\n",
    "        try:\n",
    "            i = int(i)\n",
    "            machine.append(i)\n",
    "            print(machine)\n",
    "        except:\n",
    "            if i == \"-\":\n",
    "                first = machine.pop()\n",
    "                if len(machine) == 0:\n",
    "                    \n",
    "                    return -1\n",
    "                second = machine.pop()\n",
    "                diff = first - second\n",
    "                if diff < 0:\n",
    " \n",
    "                    return -1\n",
    "                machine.append(diff)\n",
    "                print(machine)\n",
    "            if i == \"+\":\n",
    "                first = machine.pop()\n",
    "                if len(machine) == 0: \n",
    "                    return -1\n",
    "                second = machine.pop()\n",
    "                sum_n = first + second\n",
    "                if sum_n > 1048575:     \n",
    "                    return -1\n",
    "                machine.append(sum_n)\n",
    "                print(machine)\n",
    "            if i == \"DUP\":\n",
    "                machine.append(machine[-1:][0])\n",
    "                print(machine)\n",
    "            if i == \"POP\":\n",
    "                machine.pop()\n",
    "                print(machine)\n",
    "\n",
    "    return machine.pop()"
   ]
  }
 ],
 "metadata": {
  "interpreter": {
   "hash": "a90463b7efb3a9f6206f9e005c48f2305bd5d139dbc89eea8897b581113a0204"
  },
  "kernelspec": {
   "display_name": "venv",
   "language": "python",
   "name": "python3"
  },
  "language_info": {
   "codemirror_mode": {
    "name": "ipython",
    "version": 3
   },
   "file_extension": ".py",
   "mimetype": "text/x-python",
   "name": "python",
   "nbconvert_exporter": "python",
   "pygments_lexer": "ipython3",
   "version": "3.10.11"
  },
  "orig_nbformat": 4
 },
 "nbformat": 4,
 "nbformat_minor": 2
}
